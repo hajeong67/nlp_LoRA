{
  "cells": [
    {
      "cell_type": "markdown",
      "metadata": {
        "id": "view-in-github",
        "colab_type": "text"
      },
      "source": [
        "<a href=\"https://colab.research.google.com/github/hajeong67/nlp_LoRA/blob/main/llm_finetuning_eng_lab_20221346.ipynb\" target=\"_parent\"><img src=\"https://colab.research.google.com/assets/colab-badge.svg\" alt=\"Open In Colab\"/></a>"
      ]
    },
    {
      "cell_type": "markdown",
      "id": "cb7e8082-2e4d-4d20-8fd0-ef802bb53894",
      "metadata": {
        "id": "cb7e8082-2e4d-4d20-8fd0-ef802bb53894"
      },
      "source": [
        "# PEFT lab (finetuning `gemma-2b-it` )\n",
        "\n"
      ]
    },
    {
      "cell_type": "markdown",
      "id": "830f173b-3ed7-4cb8-98e1-cd70a166fbe1",
      "metadata": {
        "id": "830f173b-3ed7-4cb8-98e1-cd70a166fbe1"
      },
      "source": [
        "## Overview\n",
        "- **Food Order Analysis Dataset**: 3,000 records\n",
        "   - **Goal**: Extract food names, option names, and quantities from order sentences\n",
        "- **Solution**: Fine-tuning gemma-2b-it\n",
        "- **Methodology**:\n",
        "   - Load model with 4-bit quantization\n",
        "   - Attach LoRA adapter\n",
        "   - Train using **SFTTrainer**: Sentence -> next token prediction\n",
        "   - Process dataset with **ConstantLengthDataset**\n"
      ]
    },
    {
      "cell_type": "code",
      "source": [
        "pip install transformers accelerate datasets peft trl bitsandbytes wandb"
      ],
      "metadata": {
        "colab": {
          "base_uri": "https://localhost:8080/"
        },
        "id": "rX0daM3gdLFE",
        "outputId": "b4029f29-02da-4928-e046-32c9944b37eb"
      },
      "id": "rX0daM3gdLFE",
      "execution_count": null,
      "outputs": [
        {
          "output_type": "stream",
          "name": "stdout",
          "text": [
            "Requirement already satisfied: transformers in /usr/local/lib/python3.10/dist-packages (4.44.2)\n",
            "Requirement already satisfied: accelerate in /usr/local/lib/python3.10/dist-packages (0.34.2)\n",
            "Collecting datasets\n",
            "  Downloading datasets-3.1.0-py3-none-any.whl.metadata (20 kB)\n",
            "Requirement already satisfied: peft in /usr/local/lib/python3.10/dist-packages (0.13.2)\n",
            "Collecting trl\n",
            "  Downloading trl-0.12.0-py3-none-any.whl.metadata (10 kB)\n",
            "Collecting bitsandbytes\n",
            "  Downloading bitsandbytes-0.44.1-py3-none-manylinux_2_24_x86_64.whl.metadata (3.5 kB)\n",
            "Requirement already satisfied: wandb in /usr/local/lib/python3.10/dist-packages (0.18.5)\n",
            "Requirement already satisfied: filelock in /usr/local/lib/python3.10/dist-packages (from transformers) (3.16.1)\n",
            "Requirement already satisfied: huggingface-hub<1.0,>=0.23.2 in /usr/local/lib/python3.10/dist-packages (from transformers) (0.24.7)\n",
            "Requirement already satisfied: numpy>=1.17 in /usr/local/lib/python3.10/dist-packages (from transformers) (1.26.4)\n",
            "Requirement already satisfied: packaging>=20.0 in /usr/local/lib/python3.10/dist-packages (from transformers) (24.1)\n",
            "Requirement already satisfied: pyyaml>=5.1 in /usr/local/lib/python3.10/dist-packages (from transformers) (6.0.2)\n",
            "Requirement already satisfied: regex!=2019.12.17 in /usr/local/lib/python3.10/dist-packages (from transformers) (2024.9.11)\n",
            "Requirement already satisfied: requests in /usr/local/lib/python3.10/dist-packages (from transformers) (2.32.3)\n",
            "Requirement already satisfied: safetensors>=0.4.1 in /usr/local/lib/python3.10/dist-packages (from transformers) (0.4.5)\n",
            "Requirement already satisfied: tokenizers<0.20,>=0.19 in /usr/local/lib/python3.10/dist-packages (from transformers) (0.19.1)\n",
            "Requirement already satisfied: tqdm>=4.27 in /usr/local/lib/python3.10/dist-packages (from transformers) (4.66.6)\n",
            "Requirement already satisfied: psutil in /usr/local/lib/python3.10/dist-packages (from accelerate) (5.9.5)\n",
            "Requirement already satisfied: torch>=1.10.0 in /usr/local/lib/python3.10/dist-packages (from accelerate) (2.5.0+cu121)\n",
            "Requirement already satisfied: pyarrow>=15.0.0 in /usr/local/lib/python3.10/dist-packages (from datasets) (17.0.0)\n",
            "Collecting dill<0.3.9,>=0.3.0 (from datasets)\n",
            "  Downloading dill-0.3.8-py3-none-any.whl.metadata (10 kB)\n",
            "Requirement already satisfied: pandas in /usr/local/lib/python3.10/dist-packages (from datasets) (2.2.2)\n",
            "Collecting xxhash (from datasets)\n",
            "  Downloading xxhash-3.5.0-cp310-cp310-manylinux_2_17_x86_64.manylinux2014_x86_64.whl.metadata (12 kB)\n",
            "Collecting multiprocess<0.70.17 (from datasets)\n",
            "  Downloading multiprocess-0.70.16-py310-none-any.whl.metadata (7.2 kB)\n",
            "Collecting fsspec<=2024.9.0,>=2023.1.0 (from fsspec[http]<=2024.9.0,>=2023.1.0->datasets)\n",
            "  Downloading fsspec-2024.9.0-py3-none-any.whl.metadata (11 kB)\n",
            "Requirement already satisfied: aiohttp in /usr/local/lib/python3.10/dist-packages (from datasets) (3.10.10)\n",
            "Requirement already satisfied: rich in /usr/local/lib/python3.10/dist-packages (from trl) (13.9.4)\n",
            "Collecting transformers\n",
            "  Downloading transformers-4.46.2-py3-none-any.whl.metadata (44 kB)\n",
            "\u001b[2K     \u001b[90m━━━━━━━━━━━━━━━━━━━━━━━━━━━━━━━━━━━━━━━━\u001b[0m \u001b[32m44.1/44.1 kB\u001b[0m \u001b[31m2.4 MB/s\u001b[0m eta \u001b[36m0:00:00\u001b[0m\n",
            "\u001b[?25hCollecting tokenizers<0.21,>=0.20 (from transformers)\n",
            "  Downloading tokenizers-0.20.3-cp310-cp310-manylinux_2_17_x86_64.manylinux2014_x86_64.whl.metadata (6.7 kB)\n",
            "Requirement already satisfied: click!=8.0.0,>=7.1 in /usr/local/lib/python3.10/dist-packages (from wandb) (8.1.7)\n",
            "Requirement already satisfied: docker-pycreds>=0.4.0 in /usr/local/lib/python3.10/dist-packages (from wandb) (0.4.0)\n",
            "Requirement already satisfied: gitpython!=3.1.29,>=1.0.0 in /usr/local/lib/python3.10/dist-packages (from wandb) (3.1.43)\n",
            "Requirement already satisfied: platformdirs in /usr/local/lib/python3.10/dist-packages (from wandb) (4.3.6)\n",
            "Requirement already satisfied: protobuf!=4.21.0,!=5.28.0,<6,>=3.19.0 in /usr/local/lib/python3.10/dist-packages (from wandb) (3.20.3)\n",
            "Requirement already satisfied: sentry-sdk>=2.0.0 in /usr/local/lib/python3.10/dist-packages (from wandb) (2.18.0)\n",
            "Requirement already satisfied: setproctitle in /usr/local/lib/python3.10/dist-packages (from wandb) (1.3.3)\n",
            "Requirement already satisfied: setuptools in /usr/local/lib/python3.10/dist-packages (from wandb) (75.1.0)\n",
            "Requirement already satisfied: typing-extensions<5,>=4.4 in /usr/local/lib/python3.10/dist-packages (from wandb) (4.12.2)\n",
            "Requirement already satisfied: six>=1.4.0 in /usr/local/lib/python3.10/dist-packages (from docker-pycreds>=0.4.0->wandb) (1.16.0)\n",
            "Requirement already satisfied: aiohappyeyeballs>=2.3.0 in /usr/local/lib/python3.10/dist-packages (from aiohttp->datasets) (2.4.3)\n",
            "Requirement already satisfied: aiosignal>=1.1.2 in /usr/local/lib/python3.10/dist-packages (from aiohttp->datasets) (1.3.1)\n",
            "Requirement already satisfied: attrs>=17.3.0 in /usr/local/lib/python3.10/dist-packages (from aiohttp->datasets) (24.2.0)\n",
            "Requirement already satisfied: frozenlist>=1.1.1 in /usr/local/lib/python3.10/dist-packages (from aiohttp->datasets) (1.5.0)\n",
            "Requirement already satisfied: multidict<7.0,>=4.5 in /usr/local/lib/python3.10/dist-packages (from aiohttp->datasets) (6.1.0)\n",
            "Requirement already satisfied: yarl<2.0,>=1.12.0 in /usr/local/lib/python3.10/dist-packages (from aiohttp->datasets) (1.17.1)\n",
            "Requirement already satisfied: async-timeout<5.0,>=4.0 in /usr/local/lib/python3.10/dist-packages (from aiohttp->datasets) (4.0.3)\n",
            "Requirement already satisfied: gitdb<5,>=4.0.1 in /usr/local/lib/python3.10/dist-packages (from gitpython!=3.1.29,>=1.0.0->wandb) (4.0.11)\n",
            "Requirement already satisfied: charset-normalizer<4,>=2 in /usr/local/lib/python3.10/dist-packages (from requests->transformers) (3.4.0)\n",
            "Requirement already satisfied: idna<4,>=2.5 in /usr/local/lib/python3.10/dist-packages (from requests->transformers) (3.10)\n",
            "Requirement already satisfied: urllib3<3,>=1.21.1 in /usr/local/lib/python3.10/dist-packages (from requests->transformers) (2.2.3)\n",
            "Requirement already satisfied: certifi>=2017.4.17 in /usr/local/lib/python3.10/dist-packages (from requests->transformers) (2024.8.30)\n",
            "Requirement already satisfied: networkx in /usr/local/lib/python3.10/dist-packages (from torch>=1.10.0->accelerate) (3.4.2)\n",
            "Requirement already satisfied: jinja2 in /usr/local/lib/python3.10/dist-packages (from torch>=1.10.0->accelerate) (3.1.4)\n",
            "Requirement already satisfied: sympy==1.13.1 in /usr/local/lib/python3.10/dist-packages (from torch>=1.10.0->accelerate) (1.13.1)\n",
            "Requirement already satisfied: mpmath<1.4,>=1.1.0 in /usr/local/lib/python3.10/dist-packages (from sympy==1.13.1->torch>=1.10.0->accelerate) (1.3.0)\n",
            "Requirement already satisfied: python-dateutil>=2.8.2 in /usr/local/lib/python3.10/dist-packages (from pandas->datasets) (2.8.2)\n",
            "Requirement already satisfied: pytz>=2020.1 in /usr/local/lib/python3.10/dist-packages (from pandas->datasets) (2024.2)\n",
            "Requirement already satisfied: tzdata>=2022.7 in /usr/local/lib/python3.10/dist-packages (from pandas->datasets) (2024.2)\n",
            "Requirement already satisfied: markdown-it-py>=2.2.0 in /usr/local/lib/python3.10/dist-packages (from rich->trl) (3.0.0)\n",
            "Requirement already satisfied: pygments<3.0.0,>=2.13.0 in /usr/local/lib/python3.10/dist-packages (from rich->trl) (2.18.0)\n",
            "Requirement already satisfied: smmap<6,>=3.0.1 in /usr/local/lib/python3.10/dist-packages (from gitdb<5,>=4.0.1->gitpython!=3.1.29,>=1.0.0->wandb) (5.0.1)\n",
            "Requirement already satisfied: mdurl~=0.1 in /usr/local/lib/python3.10/dist-packages (from markdown-it-py>=2.2.0->rich->trl) (0.1.2)\n",
            "Requirement already satisfied: propcache>=0.2.0 in /usr/local/lib/python3.10/dist-packages (from yarl<2.0,>=1.12.0->aiohttp->datasets) (0.2.0)\n",
            "Requirement already satisfied: MarkupSafe>=2.0 in /usr/local/lib/python3.10/dist-packages (from jinja2->torch>=1.10.0->accelerate) (3.0.2)\n",
            "Downloading datasets-3.1.0-py3-none-any.whl (480 kB)\n",
            "\u001b[2K   \u001b[90m━━━━━━━━━━━━━━━━━━━━━━━━━━━━━━━━━━━━━━━━\u001b[0m \u001b[32m480.6/480.6 kB\u001b[0m \u001b[31m16.8 MB/s\u001b[0m eta \u001b[36m0:00:00\u001b[0m\n",
            "\u001b[?25hDownloading trl-0.12.0-py3-none-any.whl (310 kB)\n",
            "\u001b[2K   \u001b[90m━━━━━━━━━━━━━━━━━━━━━━━━━━━━━━━━━━━━━━━━\u001b[0m \u001b[32m310.2/310.2 kB\u001b[0m \u001b[31m20.4 MB/s\u001b[0m eta \u001b[36m0:00:00\u001b[0m\n",
            "\u001b[?25hDownloading transformers-4.46.2-py3-none-any.whl (10.0 MB)\n",
            "\u001b[2K   \u001b[90m━━━━━━━━━━━━━━━━━━━━━━━━━━━━━━━━━━━━━━━━\u001b[0m \u001b[32m10.0/10.0 MB\u001b[0m \u001b[31m23.6 MB/s\u001b[0m eta \u001b[36m0:00:00\u001b[0m\n",
            "\u001b[?25hDownloading bitsandbytes-0.44.1-py3-none-manylinux_2_24_x86_64.whl (122.4 MB)\n",
            "\u001b[2K   \u001b[90m━━━━━━━━━━━━━━━━━━━━━━━━━━━━━━━━━━━━━━━━\u001b[0m \u001b[32m122.4/122.4 MB\u001b[0m \u001b[31m5.7 MB/s\u001b[0m eta \u001b[36m0:00:00\u001b[0m\n",
            "\u001b[?25hDownloading dill-0.3.8-py3-none-any.whl (116 kB)\n",
            "\u001b[2K   \u001b[90m━━━━━━━━━━━━━━━━━━━━━━━━━━━━━━━━━━━━━━━━\u001b[0m \u001b[32m116.3/116.3 kB\u001b[0m \u001b[31m4.7 MB/s\u001b[0m eta \u001b[36m0:00:00\u001b[0m\n",
            "\u001b[?25hDownloading fsspec-2024.9.0-py3-none-any.whl (179 kB)\n",
            "\u001b[2K   \u001b[90m━━━━━━━━━━━━━━━━━━━━━━━━━━━━━━━━━━━━━━━━\u001b[0m \u001b[32m179.3/179.3 kB\u001b[0m \u001b[31m5.3 MB/s\u001b[0m eta \u001b[36m0:00:00\u001b[0m\n",
            "\u001b[?25hDownloading multiprocess-0.70.16-py310-none-any.whl (134 kB)\n",
            "\u001b[2K   \u001b[90m━━━━━━━━━━━━━━━━━━━━━━━━━━━━━━━━━━━━━━━━\u001b[0m \u001b[32m134.8/134.8 kB\u001b[0m \u001b[31m9.4 MB/s\u001b[0m eta \u001b[36m0:00:00\u001b[0m\n",
            "\u001b[?25hDownloading tokenizers-0.20.3-cp310-cp310-manylinux_2_17_x86_64.manylinux2014_x86_64.whl (3.0 MB)\n",
            "\u001b[2K   \u001b[90m━━━━━━━━━━━━━━━━━━━━━━━━━━━━━━━━━━━━━━━━\u001b[0m \u001b[32m3.0/3.0 MB\u001b[0m \u001b[31m33.4 MB/s\u001b[0m eta \u001b[36m0:00:00\u001b[0m\n",
            "\u001b[?25hDownloading xxhash-3.5.0-cp310-cp310-manylinux_2_17_x86_64.manylinux2014_x86_64.whl (194 kB)\n",
            "\u001b[2K   \u001b[90m━━━━━━━━━━━━━━━━━━━━━━━━━━━━━━━━━━━━━━━━\u001b[0m \u001b[32m194.1/194.1 kB\u001b[0m \u001b[31m14.5 MB/s\u001b[0m eta \u001b[36m0:00:00\u001b[0m\n",
            "\u001b[?25hInstalling collected packages: xxhash, fsspec, dill, multiprocess, tokenizers, bitsandbytes, transformers, datasets, trl\n",
            "  Attempting uninstall: fsspec\n",
            "    Found existing installation: fsspec 2024.10.0\n",
            "    Uninstalling fsspec-2024.10.0:\n",
            "      Successfully uninstalled fsspec-2024.10.0\n",
            "  Attempting uninstall: tokenizers\n",
            "    Found existing installation: tokenizers 0.19.1\n",
            "    Uninstalling tokenizers-0.19.1:\n",
            "      Successfully uninstalled tokenizers-0.19.1\n",
            "  Attempting uninstall: transformers\n",
            "    Found existing installation: transformers 4.44.2\n",
            "    Uninstalling transformers-4.44.2:\n",
            "      Successfully uninstalled transformers-4.44.2\n",
            "\u001b[31mERROR: pip's dependency resolver does not currently take into account all the packages that are installed. This behaviour is the source of the following dependency conflicts.\n",
            "gcsfs 2024.10.0 requires fsspec==2024.10.0, but you have fsspec 2024.9.0 which is incompatible.\u001b[0m\u001b[31m\n",
            "\u001b[0mSuccessfully installed bitsandbytes-0.44.1 datasets-3.1.0 dill-0.3.8 fsspec-2024.9.0 multiprocess-0.70.16 tokenizers-0.20.3 transformers-4.46.2 trl-0.12.0 xxhash-3.5.0\n"
          ]
        }
      ]
    },
    {
      "cell_type": "code",
      "execution_count": null,
      "id": "98776311-5d88-46e0-ae19-ad118f10c107",
      "metadata": {
        "id": "98776311-5d88-46e0-ae19-ad118f10c107"
      },
      "outputs": [],
      "source": [
        "import os\n",
        "from dataclasses import dataclass, field\n",
        "from typing import Optional\n",
        "import re\n",
        "\n",
        "import torch\n",
        "import sys\n",
        "# import tyro\n",
        "from accelerate import Accelerator\n",
        "from datasets import load_dataset, Dataset\n",
        "from peft import AutoPeftModelForCausalLM, LoraConfig\n",
        "from tqdm import tqdm\n",
        "from transformers import (\n",
        "    HfArgumentParser,\n",
        "    AutoModelForCausalLM,\n",
        "    AutoTokenizer,\n",
        "    BitsAndBytesConfig,\n",
        "    TrainingArguments,\n",
        "    TextStreamer,\n",
        "    logging as hf_logging,\n",
        ")\n",
        "import logging\n",
        "from trl import SFTTrainer, SFTConfig\n",
        "\n",
        "from trl.trainer import ConstantLengthDataset"
      ]
    },
    {
      "cell_type": "markdown",
      "id": "2267ff1b-5cc5-4374-87f3-a1e26ab1ea05",
      "metadata": {
        "id": "2267ff1b-5cc5-4374-87f3-a1e26ab1ea05"
      },
      "source": [
        "# Setting"
      ]
    },
    {
      "cell_type": "code",
      "execution_count": null,
      "id": "424ade05-83c1-4dc2-b1a1-8a15b87345fb",
      "metadata": {
        "id": "424ade05-83c1-4dc2-b1a1-8a15b87345fb"
      },
      "outputs": [],
      "source": [
        "base_model_id = \"google/gemma-2b-it\"\n",
        "device_map=\"cuda\"\n",
        "torch_dtype = torch.bfloat16\n",
        "output_dir = \"./gemma-order-analysis\"\n",
        "dataset_name = \"./llm-modeling-lab.jsonl\"\n",
        "seq_length = 512"
      ]
    },
    {
      "cell_type": "markdown",
      "id": "ac8f5418-3ad1-4433-a55e-e70decfc4ae2",
      "metadata": {
        "id": "ac8f5418-3ad1-4433-a55e-e70decfc4ae2"
      },
      "source": [
        "# Raw Dataset"
      ]
    },
    {
      "cell_type": "code",
      "execution_count": null,
      "id": "c58ccc56-06f3-4dc4-bb72-070a734ec55f",
      "metadata": {
        "id": "c58ccc56-06f3-4dc4-bb72-070a734ec55f"
      },
      "outputs": [],
      "source": [
        "full_dataset = Dataset.from_json(path_or_paths=dataset_name)"
      ]
    },
    {
      "cell_type": "markdown",
      "id": "995f9c64-9a6c-46ee-8e45-7bb01c8a06cc",
      "metadata": {
        "id": "995f9c64-9a6c-46ee-8e45-7bb01c8a06cc"
      },
      "source": [
        "# Loading the Tokenizer"
      ]
    },
    {
      "cell_type": "code",
      "execution_count": null,
      "id": "10d7fd4f-cd39-49a6-a03d-0b34678f45bf",
      "metadata": {
        "id": "10d7fd4f-cd39-49a6-a03d-0b34678f45bf"
      },
      "outputs": [],
      "source": [
        "tokenizer = AutoTokenizer.from_pretrained(\n",
        "    base_model_id\n",
        ")\n",
        "tokenizer.padding_side = \"right\""
      ]
    },
    {
      "cell_type": "markdown",
      "id": "187b1c68-e1da-4301-8525-c335240f0aea",
      "metadata": {
        "id": "187b1c68-e1da-4301-8525-c335240f0aea"
      },
      "source": [
        "# Loading the Base Model"
      ]
    },
    {
      "cell_type": "code",
      "execution_count": null,
      "id": "103caa04-8a09-4605-a281-e6e780cfe704",
      "metadata": {
        "id": "103caa04-8a09-4605-a281-e6e780cfe704"
      },
      "outputs": [],
      "source": [
        "bnb_config = BitsAndBytesConfig(\n",
        "    load_in_4bit=True,\n",
        "    bnb_4bit_quant_type=\"nf4\",\n",
        "    bnb_4bit_compute_dtype=torch.bfloat16,\n",
        ")"
      ]
    },
    {
      "cell_type": "code",
      "execution_count": null,
      "id": "f32bf7fc-5b99-4170-95fc-abec8b50a0ed",
      "metadata": {
        "colab": {
          "base_uri": "https://localhost:8080/",
          "height": 120,
          "referenced_widgets": [
            "199ed2e8fec24f3fbcdf2cfb95d47539",
            "d059541273ff48f8ae57071f5018d474",
            "e430f694aaf1437d9220c4660ee00833",
            "c6d3edb81469410e8a72cb481d51a9fc",
            "69aaa93e7cec406e9739d8969993e24d",
            "9c5858c2de7a4cc08c4a2c8d5c73652b",
            "d24f380820ba4ff483411bf9cccf62b0",
            "32ee25b549924e7b8ed20e98e2a5f341",
            "c2cdd9cad0a84c32bd32757c9e2bf636",
            "3a30ac5c2a5047b7bac61ae5f361d47c",
            "48afaa0f354444a686560af1d89d34ab"
          ]
        },
        "id": "f32bf7fc-5b99-4170-95fc-abec8b50a0ed",
        "outputId": "14a5fab1-e72f-4dbc-eeab-61a16ea62635"
      },
      "outputs": [
        {
          "output_type": "stream",
          "name": "stderr",
          "text": [
            "`config.hidden_act` is ignored, you should use `config.hidden_activation` instead.\n",
            "Gemma's activation function will be set to `gelu_pytorch_tanh`. Please, use\n",
            "`config.hidden_activation` if you want to override this behaviour.\n",
            "See https://github.com/huggingface/transformers/pull/29402 for more details.\n"
          ]
        },
        {
          "output_type": "display_data",
          "data": {
            "text/plain": [
              "Loading checkpoint shards:   0%|          | 0/2 [00:00<?, ?it/s]"
            ],
            "application/vnd.jupyter.widget-view+json": {
              "version_major": 2,
              "version_minor": 0,
              "model_id": "199ed2e8fec24f3fbcdf2cfb95d47539"
            }
          },
          "metadata": {}
        }
      ],
      "source": [
        "base_model = AutoModelForCausalLM.from_pretrained(\n",
        "    base_model_id,\n",
        "    quantization_config=bnb_config,\n",
        "    device_map=\"auto\",  # {\"\": Accelerator().local_process_index},\n",
        ")"
      ]
    },
    {
      "cell_type": "code",
      "execution_count": null,
      "id": "e6412ea2-576f-4a95-b941-6c55ef4b1490",
      "metadata": {
        "id": "e6412ea2-576f-4a95-b941-6c55ef4b1490"
      },
      "outputs": [],
      "source": [
        "base_model.config.use_cache = False"
      ]
    },
    {
      "cell_type": "code",
      "execution_count": null,
      "id": "3d148097-9770-4743-ad28-40d7952e1ee0",
      "metadata": {
        "id": "3d148097-9770-4743-ad28-40d7952e1ee0"
      },
      "outputs": [],
      "source": [
        "if getattr(tokenizer, \"pad_token\", None) is None:\n",
        "    tokenizer.pad_token = tokenizer.eos_token\n",
        "    tokenizer.pad_token_id = tokenizer.eos_token_id\n",
        "tokenizer.padding_side = \"right\"  # Fix weird overflow issue with fp16 training\n",
        "if base_model.config.pad_token_id != tokenizer.pad_token_id:\n",
        "    base_model.config.pad_token_id = tokenizer.pad_token_id"
      ]
    },
    {
      "cell_type": "markdown",
      "id": "e2f4c432-9c07-4f82-9c6e-4b5625d3ffa4",
      "metadata": {
        "id": "e2f4c432-9c07-4f82-9c6e-4b5625d3ffa4"
      },
      "source": [
        "# Utilities"
      ]
    },
    {
      "cell_type": "code",
      "execution_count": null,
      "id": "20dc069b-19f6-4c22-8f6f-ef7fa380ca01",
      "metadata": {
        "id": "20dc069b-19f6-4c22-8f6f-ef7fa380ca01"
      },
      "outputs": [],
      "source": [
        "def chars_token_ratio(dataset, tokenizer, prepare_sample_text, nb_examples=400):\n",
        "    \"\"\"\n",
        "    Estimate the average number of characters per token in the dataset.\n",
        "    \"\"\"\n",
        "    total_characters, total_tokens = 0, 0\n",
        "    for _, example in tqdm(zip(range(nb_examples), iter(dataset)), total=nb_examples):\n",
        "        text = prepare_sample_text(example)\n",
        "        total_characters += len(text)\n",
        "        if tokenizer.is_fast:\n",
        "            total_tokens += len(tokenizer(text).tokens())\n",
        "        else:\n",
        "            total_tokens += len(tokenizer.tokenize(text))\n",
        "\n",
        "    return total_characters / total_tokens"
      ]
    },
    {
      "cell_type": "code",
      "execution_count": null,
      "id": "e83ee095-d8a8-4618-8d62-29ef7b38bc28",
      "metadata": {
        "id": "e83ee095-d8a8-4618-8d62-29ef7b38bc28"
      },
      "outputs": [],
      "source": [
        "def function_prepare_sample_text(tokenizer, for_train=True):\n",
        "    \"\"\"A Closure\"\"\"\n",
        "\n",
        "    def _prepare_sample_text(example):\n",
        "        \"\"\"Prepare the text from a sample of the dataset.\"\"\"\n",
        "        user_prompt=\"너는 사용자가 입력한 주문 문장을 분석하는 에이전트이다. 주문으로부터 이를 구성하는 음식명, 옵션명, 수량을 차례대로 추출해야 한다.\\n### 주문 문장: \"\n",
        "        messages = [\n",
        "            # {\"role\": \"system\", \"content\": f\"{system_prompt}\"},\n",
        "            {\"role\": \"user\", \"content\": f\"{user_prompt}{example['input']}\"},\n",
        "        ]\n",
        "        if for_train:\n",
        "            messages.append({\"role\": \"assistant\", \"content\": f\"{example['output']}\"})\n",
        "\n",
        "        text = tokenizer.apply_chat_template(messages, tokenize=False, add_generation_prompt=False if for_train else True)\n",
        "        return text\n",
        "    return _prepare_sample_text"
      ]
    },
    {
      "cell_type": "code",
      "execution_count": null,
      "id": "dde80015-14c3-4c84-a529-cdb784c9792c",
      "metadata": {
        "id": "dde80015-14c3-4c84-a529-cdb784c9792c"
      },
      "outputs": [],
      "source": [
        "def create_datasets(tokenizer, dataset, seq_length):\n",
        "\n",
        "    prepare_sample_text = function_prepare_sample_text(tokenizer)\n",
        "\n",
        "    chars_per_token = chars_token_ratio(dataset, tokenizer, prepare_sample_text)\n",
        "    print(\n",
        "        f\"The character to token ratio of the dataset is: {chars_per_token:.2f}\"\n",
        "    )\n",
        "\n",
        "    cl_dataset = ConstantLengthDataset(\n",
        "        tokenizer,\n",
        "        dataset,\n",
        "        formatting_func=prepare_sample_text,\n",
        "        infinite=True,\n",
        "        seq_length=seq_length,\n",
        "        chars_per_token=chars_per_token,\n",
        "    )\n",
        "\n",
        "    return cl_dataset"
      ]
    },
    {
      "cell_type": "markdown",
      "id": "5a15270e-9d1b-4f85-9b0f-dcbfe5d358b0",
      "metadata": {
        "id": "5a15270e-9d1b-4f85-9b0f-dcbfe5d358b0"
      },
      "source": [
        "# Build a dataset"
      ]
    },
    {
      "cell_type": "code",
      "execution_count": null,
      "id": "476ca90e-a3eb-45d7-ae63-faec631e64a5",
      "metadata": {
        "colab": {
          "base_uri": "https://localhost:8080/"
        },
        "id": "476ca90e-a3eb-45d7-ae63-faec631e64a5",
        "outputId": "881b14a6-ce3c-4485-c52c-636adf821819"
      },
      "outputs": [
        {
          "output_type": "stream",
          "name": "stderr",
          "text": [
            "100%|██████████| 400/400 [00:00<00:00, 2015.97it/s]"
          ]
        },
        {
          "output_type": "stream",
          "name": "stdout",
          "text": [
            "The character to token ratio of the dataset is: 1.81\n"
          ]
        },
        {
          "output_type": "stream",
          "name": "stderr",
          "text": [
            "\n"
          ]
        }
      ],
      "source": [
        "ds = create_datasets(tokenizer, full_dataset, seq_length)"
      ]
    },
    {
      "cell_type": "code",
      "execution_count": null,
      "id": "84d799e9-751d-4528-8baa-bed8ea6ea829",
      "metadata": {
        "id": "84d799e9-751d-4528-8baa-bed8ea6ea829"
      },
      "outputs": [],
      "source": [
        "it = iter(ds)"
      ]
    },
    {
      "cell_type": "code",
      "execution_count": null,
      "id": "88bc95f8-4405-43b6-ba71-e4fe51eaa661",
      "metadata": {
        "colab": {
          "base_uri": "https://localhost:8080/",
          "height": 270
        },
        "id": "88bc95f8-4405-43b6-ba71-e4fe51eaa661",
        "outputId": "5806906a-bde8-402b-bb1e-a011cf626622"
      },
      "outputs": [
        {
          "output_type": "stream",
          "name": "stderr",
          "text": [
            "/usr/local/lib/python3.10/dist-packages/trl/trainer/utils.py:648: UserWarning: The dataset reached end and the iterator is reset to the start.\n",
            "  warnings.warn(\"The dataset reached end and the iterator is reset to the start.\")\n"
          ]
        },
        {
          "output_type": "execute_result",
          "data": {
            "text/plain": [
              "'<bos><start_of_turn>user\\n너는 사용자가 입력한 주문 문장을 분석하는 에이전트이다. 주문으로부터 이를 구성하는 음식명, 옵션명, 수량을 차례대로 추출해야 한다.\\n### 주문 문장: 후루룩 어우동 덜맵게 해주세요. 그리고 콜드브루라떼는 아이스로, 두 잔 주세요.<end_of_turn>\\n<start_of_turn>model\\n- 분석 결과 0: 음식명:후루룩 어우동,옵션:덜맵게\\n- 분석 결과 1: 음식명:콜드브루라떼,옵션:아이스,수량:두 잔<end_of_turn>\\n<eos><bos><bos><start_of_turn>user\\n너는 사용자가 입력한 주문 문장을 분석하는 에이전트이다. 주문으로부터 이를 구성하는 음식명, 옵션명, 수량을 차례대로 추출해야 한다.\\n### 주문 문장: 오뎅탕 중자하고 가지크림카레파스타 두 그릇 주세요.<end_of_turn>\\n<start_of_turn>model\\n- 분석 결과 0: 음식명:오뎅탕,옵션:중자\\n- 분석 결과 1: 음식명:가지크림카레파스타,수량:두그릇<end_of_turn>\\n<eos><bos><bos><start_of_turn>user\\n너는 사용자가 입력한 주문 문장을 분석하는 에이전트이다. 주문으로부터 이를 구성하는 음식명, 옵션명, 수량을 차례대로 추출해야 한다.\\n### 주문 문장: 알밥 점심으로 주시고, 히비스커스 핫으로 한잔 주세요.<end_of_turn>\\n<start_of_turn>model\\n- 분석 결과 0: 음식명:알밥,옵션:점심\\n- 분석 결과 1: 음식명:히비스커스,옵션:핫,수량:한잔<end_of_turn>\\n<eos><bos><bos><start_of_turn>user\\n너는 사용자가 입력한 주문 문장을 분석하는 에이전트이다. 주문으로부터 이를 구성하는 음식명, 옵션명, 수량을 차례대로 추출해야 한다.\\n### 주문 문장: 버블밀크티 볼륨 UP 하려고 ICE XL로 주세요, 그리고 플레인 크로아상 한개 해주세요.<end_of_turn>\\n<start_of_turn>model\\n- 분석'"
            ],
            "application/vnd.google.colaboratory.intrinsic+json": {
              "type": "string"
            }
          },
          "metadata": {},
          "execution_count": 15
        }
      ],
      "source": [
        "tokenizer.decode(next(it)['input_ids'])"
      ]
    },
    {
      "cell_type": "markdown",
      "id": "4dab0c34-a994-4482-a539-d98ccfc74857",
      "metadata": {
        "id": "4dab0c34-a994-4482-a539-d98ccfc74857"
      },
      "source": [
        "# Fine Tuning"
      ]
    },
    {
      "cell_type": "markdown",
      "source": [
        "\n",
        "\n",
        "## Training Time (1 Epoch)\n",
        "- **T4**: 1 hour 20 minutes\n",
        "- **RTX 4090**: 10 minutes\n",
        "\n",
        "## Loss\n",
        "- **500 steps**: 0.552\n",
        "- **1500 steps**: 0.432"
      ],
      "metadata": {
        "id": "-hoC9TW6iEkg"
      },
      "id": "-hoC9TW6iEkg"
    },
    {
      "cell_type": "markdown",
      "source": [
        "## Seting for a LoRA adapter"
      ],
      "metadata": {
        "id": "0PlDKX2D7fzj"
      },
      "id": "0PlDKX2D7fzj"
    },
    {
      "cell_type": "code",
      "source": [
        "lora_config = LoraConfig(\n",
        "            r=8,\n",
        "            lora_alpha=16,\n",
        "            lora_dropout=0.05,\n",
        "            target_modules=[\n",
        "                \"q_proj\",\n",
        "                \"k_proj\",\n",
        "                \"v_proj\",\n",
        "                \"o_proj\",\n",
        "                \"down_proj\",\n",
        "                \"up_proj\",\n",
        "                \"gate_proj\",\n",
        "            ],\n",
        "            bias=\"none\",\n",
        "            task_type=\"CAUSAL_LM\",\n",
        "        )"
      ],
      "metadata": {
        "id": "ob-_OvI674Ud"
      },
      "id": "ob-_OvI674Ud",
      "execution_count": null,
      "outputs": []
    },
    {
      "cell_type": "code",
      "source": [
        "peft_config = lora_config"
      ],
      "metadata": {
        "id": "7V0rd2Lh78-P"
      },
      "id": "7V0rd2Lh78-P",
      "execution_count": null,
      "outputs": []
    },
    {
      "cell_type": "code",
      "source": [
        "from google.colab import userdata\n",
        "import wandb\n",
        "\n",
        "wandb_api_key = userdata.get('WANDB_API_KEY')\n",
        "if wandb_api_key:\n",
        "    wandb.login(key=wandb_api_key)\n",
        "    print(\"Successfully logged in to Weights & Biases\")\n",
        "else:\n",
        "    print(\"WANDB_API_KEY not found in Colab secrets\")"
      ],
      "metadata": {
        "colab": {
          "base_uri": "https://localhost:8080/"
        },
        "id": "EEqW7GcMeC54",
        "outputId": "5b38ca45-7f86-486d-c088-2012f992578a"
      },
      "id": "EEqW7GcMeC54",
      "execution_count": null,
      "outputs": [
        {
          "output_type": "stream",
          "name": "stderr",
          "text": [
            "\u001b[34m\u001b[1mwandb\u001b[0m: Using wandb-core as the SDK backend. Please refer to https://wandb.me/wandb-core for more information.\n",
            "\u001b[34m\u001b[1mwandb\u001b[0m: Currently logged in as: \u001b[33mjangmin-o\u001b[0m (\u001b[33mozlab\u001b[0m). Use \u001b[1m`wandb login --relogin`\u001b[0m to force relogin\n",
            "\u001b[34m\u001b[1mwandb\u001b[0m: \u001b[33mWARNING\u001b[0m If you're specifying your api key in code, ensure this code is not shared publicly.\n",
            "\u001b[34m\u001b[1mwandb\u001b[0m: \u001b[33mWARNING\u001b[0m Consider setting the WANDB_API_KEY environment variable, or running `wandb login` from the command line.\n",
            "\u001b[34m\u001b[1mwandb\u001b[0m: Appending key for api.wandb.ai to your netrc file: /root/.netrc\n"
          ]
        },
        {
          "output_type": "stream",
          "name": "stdout",
          "text": [
            "Successfully logged in to Weights & Biases\n"
          ]
        }
      ]
    },
    {
      "cell_type": "code",
      "execution_count": null,
      "id": "171a1cdf-2931-4cbe-bc68-20252e680fc3",
      "metadata": {
        "id": "171a1cdf-2931-4cbe-bc68-20252e680fc3"
      },
      "outputs": [],
      "source": [
        "sft_config = SFTConfig(\n",
        "    output_dir=output_dir,\n",
        "    per_device_train_batch_size=2,\n",
        "    gradient_accumulation_steps=1,\n",
        "    gradient_checkpointing=False,\n",
        "    learning_rate=1e-4,\n",
        "    warmup_ratio=0.1,\n",
        "    max_grad_norm=0.3,\n",
        "    weight_decay=0.05,\n",
        "    num_train_epochs=1,\n",
        "    logging_steps=20,\n",
        "    eval_strategy=\"no\",\n",
        "    save_strategy=\"steps\",\n",
        "    save_steps=50,\n",
        "    save_total_limit=2,\n",
        "    max_seq_length=seq_length,\n",
        "    report_to=\"wandb\",\n",
        "    run_name=\"gemma-2b-fine-tuning\"\n",
        ")"
      ]
    },
    {
      "cell_type": "code",
      "execution_count": null,
      "id": "129069b9-d1f6-4a75-a304-b92484a1c751",
      "metadata": {
        "id": "129069b9-d1f6-4a75-a304-b92484a1c751"
      },
      "outputs": [],
      "source": [
        "trainer = SFTTrainer(\n",
        "    model=base_model,\n",
        "    train_dataset=ds,\n",
        "    eval_dataset=None,\n",
        "    peft_config=peft_config,\n",
        "    tokenizer=tokenizer,\n",
        "    args=sft_config\n",
        ")"
      ]
    },
    {
      "cell_type": "code",
      "execution_count": null,
      "id": "1e25629b-a831-4266-bf4a-8ea7d94a2403",
      "metadata": {
        "id": "1e25629b-a831-4266-bf4a-8ea7d94a2403",
        "colab": {
          "base_uri": "https://localhost:8080/",
          "height": 501
        },
        "outputId": "b7b437ee-3ccb-459d-e7ea-00560be4a9d6"
      },
      "outputs": [
        {
          "output_type": "display_data",
          "data": {
            "text/plain": [
              "<IPython.core.display.HTML object>"
            ],
            "text/html": [
              "Tracking run with wandb version 0.18.5"
            ]
          },
          "metadata": {}
        },
        {
          "output_type": "display_data",
          "data": {
            "text/plain": [
              "<IPython.core.display.HTML object>"
            ],
            "text/html": [
              "Run data is saved locally in <code>/content/wandb/run-20241110_053144-p40q57ep</code>"
            ]
          },
          "metadata": {}
        },
        {
          "output_type": "display_data",
          "data": {
            "text/plain": [
              "<IPython.core.display.HTML object>"
            ],
            "text/html": [
              "Syncing run <strong><a href='https://wandb.ai/ozlab/huggingface/runs/p40q57ep' target=\"_blank\">gemma-2b-fine-tuning</a></strong> to <a href='https://wandb.ai/ozlab/huggingface' target=\"_blank\">Weights & Biases</a> (<a href='https://wandb.me/run' target=\"_blank\">docs</a>)<br/>"
            ]
          },
          "metadata": {}
        },
        {
          "output_type": "display_data",
          "data": {
            "text/plain": [
              "<IPython.core.display.HTML object>"
            ],
            "text/html": [
              " View project at <a href='https://wandb.ai/ozlab/huggingface' target=\"_blank\">https://wandb.ai/ozlab/huggingface</a>"
            ]
          },
          "metadata": {}
        },
        {
          "output_type": "display_data",
          "data": {
            "text/plain": [
              "<IPython.core.display.HTML object>"
            ],
            "text/html": [
              " View run at <a href='https://wandb.ai/ozlab/huggingface/runs/p40q57ep' target=\"_blank\">https://wandb.ai/ozlab/huggingface/runs/p40q57ep</a>"
            ]
          },
          "metadata": {}
        },
        {
          "output_type": "stream",
          "name": "stderr",
          "text": [
            "/usr/local/lib/python3.10/dist-packages/trl/trainer/utils.py:648: UserWarning: The dataset reached end and the iterator is reset to the start.\n",
            "  warnings.warn(\"The dataset reached end and the iterator is reset to the start.\")\n"
          ]
        },
        {
          "output_type": "display_data",
          "data": {
            "text/plain": [
              "<IPython.core.display.HTML object>"
            ],
            "text/html": [
              "\n",
              "    <div>\n",
              "      \n",
              "      <progress value='184' max='1500' style='width:300px; height:20px; vertical-align: middle;'></progress>\n",
              "      [ 184/1500 09:51 < 1:11:18, 0.31 it/s, Epoch 0.12/1]\n",
              "    </div>\n",
              "    <table border=\"1\" class=\"dataframe\">\n",
              "  <thead>\n",
              " <tr style=\"text-align: left;\">\n",
              "      <th>Step</th>\n",
              "      <th>Training Loss</th>\n",
              "    </tr>\n",
              "  </thead>\n",
              "  <tbody>\n",
              "    <tr>\n",
              "      <td>20</td>\n",
              "      <td>4.636200</td>\n",
              "    </tr>\n",
              "    <tr>\n",
              "      <td>40</td>\n",
              "      <td>3.653700</td>\n",
              "    </tr>\n",
              "    <tr>\n",
              "      <td>60</td>\n",
              "      <td>2.349700</td>\n",
              "    </tr>\n",
              "    <tr>\n",
              "      <td>80</td>\n",
              "      <td>1.577400</td>\n",
              "    </tr>\n",
              "    <tr>\n",
              "      <td>100</td>\n",
              "      <td>1.147200</td>\n",
              "    </tr>\n",
              "    <tr>\n",
              "      <td>120</td>\n",
              "      <td>0.931000</td>\n",
              "    </tr>\n",
              "    <tr>\n",
              "      <td>140</td>\n",
              "      <td>0.845800</td>\n",
              "    </tr>\n",
              "    <tr>\n",
              "      <td>160</td>\n",
              "      <td>0.797900</td>\n",
              "    </tr>\n",
              "    <tr>\n",
              "      <td>180</td>\n",
              "      <td>0.744100</td>\n",
              "    </tr>\n",
              "  </tbody>\n",
              "</table><p>"
            ]
          },
          "metadata": {}
        }
      ],
      "source": [
        "trainer.train()"
      ]
    },
    {
      "cell_type": "markdown",
      "id": "005fb2f7-ac7b-43d5-b5dc-2299847479a8",
      "metadata": {
        "id": "005fb2f7-ac7b-43d5-b5dc-2299847479a8"
      },
      "source": [
        "# Evaluation"
      ]
    },
    {
      "cell_type": "markdown",
      "id": "4aacc509-e38f-4094-aa63-1499844a9b46",
      "metadata": {
        "id": "4aacc509-e38f-4094-aa63-1499844a9b46"
      },
      "source": [
        "## Utilities for Evaluation"
      ]
    },
    {
      "cell_type": "code",
      "execution_count": null,
      "id": "94f94ccf-5e9a-4dc8-87fb-383f138789a8",
      "metadata": {
        "id": "94f94ccf-5e9a-4dc8-87fb-383f138789a8"
      },
      "outputs": [],
      "source": [
        "def wrapper_generate(tokenizer, model, input_prompt, do_stream=False):\n",
        "    def get_text_after_prompt(text):\n",
        "        pattern = r'<start_of_turn>model\\n(.*?)<end_of_turn>'\n",
        "        match = re.search(pattern, text, re.DOTALL)\n",
        "\n",
        "        if match:\n",
        "            extracted_text = match.group(1).strip()\n",
        "            return extracted_text\n",
        "        else:\n",
        "            return \"매칭되는 텍스트가 없습니다.\"\n",
        "\n",
        "    data = tokenizer(input_prompt, return_tensors=\"pt\")\n",
        "    streamer = TextStreamer(tokenizer, skip_prompt=True, skip_special_tokens=True)\n",
        "    input_ids = data.input_ids[..., :-1]\n",
        "    with torch.no_grad():\n",
        "        pred = model.generate(\n",
        "            input_ids=input_ids.cuda(),\n",
        "            streamer=streamer if do_stream else None,\n",
        "            use_cache=True,\n",
        "            max_new_tokens=128, #float(\"inf\"),\n",
        "            do_sample=False,\n",
        "            pad_token_id=tokenizer.pad_token_id,\n",
        "            eos_token_id=tokenizer.eos_token_id,\n",
        "        )\n",
        "    decoded_text = tokenizer.batch_decode(pred, skip_special_tokens=False)\n",
        "\n",
        "    # gemma 결과에 대해 특별 처리\n",
        "    return get_text_after_prompt(decoded_text[0])"
      ]
    },
    {
      "cell_type": "markdown",
      "id": "12481e6d-5883-43c8-b352-b82d8b1b31dc",
      "metadata": {
        "id": "12481e6d-5883-43c8-b352-b82d8b1b31dc"
      },
      "source": [
        "## Load the Fine-Tuned Model"
      ]
    },
    {
      "cell_type": "markdown",
      "source": [
        "## Release GPU memory"
      ],
      "metadata": {
        "id": "Nm44Knf3_c2O"
      },
      "id": "Nm44Knf3_c2O"
    },
    {
      "cell_type": "code",
      "source": [
        "import gc\n",
        "del trainer\n",
        "del base_model\n",
        "gc.collect()\n",
        "torch.cuda.empty_cache()"
      ],
      "metadata": {
        "id": "uc6kd_3w-2Mj"
      },
      "id": "uc6kd_3w-2Mj",
      "execution_count": null,
      "outputs": []
    },
    {
      "cell_type": "markdown",
      "source": [
        "If you want other checkpoints, modify suffix."
      ],
      "metadata": {
        "id": "up9BB2Ym8xFJ"
      },
      "id": "up9BB2Ym8xFJ"
    },
    {
      "cell_type": "code",
      "execution_count": null,
      "id": "dfe160f6-d1b6-4247-a45f-377fc1024d32",
      "metadata": {
        "id": "dfe160f6-d1b6-4247-a45f-377fc1024d32"
      },
      "outputs": [],
      "source": [
        "trained_model = (\n",
        "    AutoPeftModelForCausalLM.from_pretrained(\n",
        "        f\"{output_dir}/checkpoint-100\",\n",
        "        quantization_config=bnb_config,\n",
        "        device_map=\"auto\",\n",
        "        # device='cuda',\n",
        "        trust_remote_code=True,\n",
        "    )\n",
        ")"
      ]
    },
    {
      "cell_type": "markdown",
      "id": "3ec991b9-b69c-4680-a80f-e42865ec0dd5",
      "metadata": {
        "id": "3ec991b9-b69c-4680-a80f-e42865ec0dd5"
      },
      "source": [
        "## Test"
      ]
    },
    {
      "cell_type": "code",
      "execution_count": null,
      "id": "d64be61b-bdc8-4bc7-9af2-68bfd47284cb",
      "metadata": {
        "id": "d64be61b-bdc8-4bc7-9af2-68bfd47284cb"
      },
      "outputs": [],
      "source": [
        "preprocessor = function_prepare_sample_text(tokenizer, for_train=False)"
      ]
    },
    {
      "cell_type": "code",
      "execution_count": null,
      "id": "b5e8b12f-cbd1-469f-96ee-7bbe2cdb788e",
      "metadata": {
        "id": "b5e8b12f-cbd1-469f-96ee-7bbe2cdb788e"
      },
      "outputs": [],
      "source": [
        "preprocessor({'input':'아이스아메리카노 그랑데 한잔 주세요'})"
      ]
    },
    {
      "cell_type": "code",
      "execution_count": null,
      "id": "bb164b1a-84eb-4a9b-8ab3-e19d91553d78",
      "metadata": {
        "id": "bb164b1a-84eb-4a9b-8ab3-e19d91553d78"
      },
      "outputs": [],
      "source": [
        "wrapper_generate(tokenizer=tokenizer, model=trained_model, input_prompt=preprocessor({'input':'아이스아메리카노 그랑데 한잔 주세요. 그리고 베이글 두개요.'}), do_stream=True)"
      ]
    }
  ],
  "metadata": {
    "kernelspec": {
      "display_name": "Python 3",
      "name": "python3"
    },
    "language_info": {
      "codemirror_mode": {
        "name": "ipython",
        "version": 3
      },
      "file_extension": ".py",
      "mimetype": "text/x-python",
      "name": "python",
      "nbconvert_exporter": "python",
      "pygments_lexer": "ipython3",
      "version": "3.10.14"
    },
    "colab": {
      "provenance": [],
      "gpuType": "T4",
      "include_colab_link": true
    },
    "accelerator": "GPU",
    "widgets": {
      "application/vnd.jupyter.widget-state+json": {
        "199ed2e8fec24f3fbcdf2cfb95d47539": {
          "model_module": "@jupyter-widgets/controls",
          "model_name": "HBoxModel",
          "model_module_version": "1.5.0",
          "state": {
            "_dom_classes": [],
            "_model_module": "@jupyter-widgets/controls",
            "_model_module_version": "1.5.0",
            "_model_name": "HBoxModel",
            "_view_count": null,
            "_view_module": "@jupyter-widgets/controls",
            "_view_module_version": "1.5.0",
            "_view_name": "HBoxView",
            "box_style": "",
            "children": [
              "IPY_MODEL_d059541273ff48f8ae57071f5018d474",
              "IPY_MODEL_e430f694aaf1437d9220c4660ee00833",
              "IPY_MODEL_c6d3edb81469410e8a72cb481d51a9fc"
            ],
            "layout": "IPY_MODEL_69aaa93e7cec406e9739d8969993e24d"
          }
        },
        "d059541273ff48f8ae57071f5018d474": {
          "model_module": "@jupyter-widgets/controls",
          "model_name": "HTMLModel",
          "model_module_version": "1.5.0",
          "state": {
            "_dom_classes": [],
            "_model_module": "@jupyter-widgets/controls",
            "_model_module_version": "1.5.0",
            "_model_name": "HTMLModel",
            "_view_count": null,
            "_view_module": "@jupyter-widgets/controls",
            "_view_module_version": "1.5.0",
            "_view_name": "HTMLView",
            "description": "",
            "description_tooltip": null,
            "layout": "IPY_MODEL_9c5858c2de7a4cc08c4a2c8d5c73652b",
            "placeholder": "​",
            "style": "IPY_MODEL_d24f380820ba4ff483411bf9cccf62b0",
            "value": "Loading checkpoint shards: 100%"
          }
        },
        "e430f694aaf1437d9220c4660ee00833": {
          "model_module": "@jupyter-widgets/controls",
          "model_name": "FloatProgressModel",
          "model_module_version": "1.5.0",
          "state": {
            "_dom_classes": [],
            "_model_module": "@jupyter-widgets/controls",
            "_model_module_version": "1.5.0",
            "_model_name": "FloatProgressModel",
            "_view_count": null,
            "_view_module": "@jupyter-widgets/controls",
            "_view_module_version": "1.5.0",
            "_view_name": "ProgressView",
            "bar_style": "success",
            "description": "",
            "description_tooltip": null,
            "layout": "IPY_MODEL_32ee25b549924e7b8ed20e98e2a5f341",
            "max": 2,
            "min": 0,
            "orientation": "horizontal",
            "style": "IPY_MODEL_c2cdd9cad0a84c32bd32757c9e2bf636",
            "value": 2
          }
        },
        "c6d3edb81469410e8a72cb481d51a9fc": {
          "model_module": "@jupyter-widgets/controls",
          "model_name": "HTMLModel",
          "model_module_version": "1.5.0",
          "state": {
            "_dom_classes": [],
            "_model_module": "@jupyter-widgets/controls",
            "_model_module_version": "1.5.0",
            "_model_name": "HTMLModel",
            "_view_count": null,
            "_view_module": "@jupyter-widgets/controls",
            "_view_module_version": "1.5.0",
            "_view_name": "HTMLView",
            "description": "",
            "description_tooltip": null,
            "layout": "IPY_MODEL_3a30ac5c2a5047b7bac61ae5f361d47c",
            "placeholder": "​",
            "style": "IPY_MODEL_48afaa0f354444a686560af1d89d34ab",
            "value": " 2/2 [00:14&lt;00:00,  5.90s/it]"
          }
        },
        "69aaa93e7cec406e9739d8969993e24d": {
          "model_module": "@jupyter-widgets/base",
          "model_name": "LayoutModel",
          "model_module_version": "1.2.0",
          "state": {
            "_model_module": "@jupyter-widgets/base",
            "_model_module_version": "1.2.0",
            "_model_name": "LayoutModel",
            "_view_count": null,
            "_view_module": "@jupyter-widgets/base",
            "_view_module_version": "1.2.0",
            "_view_name": "LayoutView",
            "align_content": null,
            "align_items": null,
            "align_self": null,
            "border": null,
            "bottom": null,
            "display": null,
            "flex": null,
            "flex_flow": null,
            "grid_area": null,
            "grid_auto_columns": null,
            "grid_auto_flow": null,
            "grid_auto_rows": null,
            "grid_column": null,
            "grid_gap": null,
            "grid_row": null,
            "grid_template_areas": null,
            "grid_template_columns": null,
            "grid_template_rows": null,
            "height": null,
            "justify_content": null,
            "justify_items": null,
            "left": null,
            "margin": null,
            "max_height": null,
            "max_width": null,
            "min_height": null,
            "min_width": null,
            "object_fit": null,
            "object_position": null,
            "order": null,
            "overflow": null,
            "overflow_x": null,
            "overflow_y": null,
            "padding": null,
            "right": null,
            "top": null,
            "visibility": null,
            "width": null
          }
        },
        "9c5858c2de7a4cc08c4a2c8d5c73652b": {
          "model_module": "@jupyter-widgets/base",
          "model_name": "LayoutModel",
          "model_module_version": "1.2.0",
          "state": {
            "_model_module": "@jupyter-widgets/base",
            "_model_module_version": "1.2.0",
            "_model_name": "LayoutModel",
            "_view_count": null,
            "_view_module": "@jupyter-widgets/base",
            "_view_module_version": "1.2.0",
            "_view_name": "LayoutView",
            "align_content": null,
            "align_items": null,
            "align_self": null,
            "border": null,
            "bottom": null,
            "display": null,
            "flex": null,
            "flex_flow": null,
            "grid_area": null,
            "grid_auto_columns": null,
            "grid_auto_flow": null,
            "grid_auto_rows": null,
            "grid_column": null,
            "grid_gap": null,
            "grid_row": null,
            "grid_template_areas": null,
            "grid_template_columns": null,
            "grid_template_rows": null,
            "height": null,
            "justify_content": null,
            "justify_items": null,
            "left": null,
            "margin": null,
            "max_height": null,
            "max_width": null,
            "min_height": null,
            "min_width": null,
            "object_fit": null,
            "object_position": null,
            "order": null,
            "overflow": null,
            "overflow_x": null,
            "overflow_y": null,
            "padding": null,
            "right": null,
            "top": null,
            "visibility": null,
            "width": null
          }
        },
        "d24f380820ba4ff483411bf9cccf62b0": {
          "model_module": "@jupyter-widgets/controls",
          "model_name": "DescriptionStyleModel",
          "model_module_version": "1.5.0",
          "state": {
            "_model_module": "@jupyter-widgets/controls",
            "_model_module_version": "1.5.0",
            "_model_name": "DescriptionStyleModel",
            "_view_count": null,
            "_view_module": "@jupyter-widgets/base",
            "_view_module_version": "1.2.0",
            "_view_name": "StyleView",
            "description_width": ""
          }
        },
        "32ee25b549924e7b8ed20e98e2a5f341": {
          "model_module": "@jupyter-widgets/base",
          "model_name": "LayoutModel",
          "model_module_version": "1.2.0",
          "state": {
            "_model_module": "@jupyter-widgets/base",
            "_model_module_version": "1.2.0",
            "_model_name": "LayoutModel",
            "_view_count": null,
            "_view_module": "@jupyter-widgets/base",
            "_view_module_version": "1.2.0",
            "_view_name": "LayoutView",
            "align_content": null,
            "align_items": null,
            "align_self": null,
            "border": null,
            "bottom": null,
            "display": null,
            "flex": null,
            "flex_flow": null,
            "grid_area": null,
            "grid_auto_columns": null,
            "grid_auto_flow": null,
            "grid_auto_rows": null,
            "grid_column": null,
            "grid_gap": null,
            "grid_row": null,
            "grid_template_areas": null,
            "grid_template_columns": null,
            "grid_template_rows": null,
            "height": null,
            "justify_content": null,
            "justify_items": null,
            "left": null,
            "margin": null,
            "max_height": null,
            "max_width": null,
            "min_height": null,
            "min_width": null,
            "object_fit": null,
            "object_position": null,
            "order": null,
            "overflow": null,
            "overflow_x": null,
            "overflow_y": null,
            "padding": null,
            "right": null,
            "top": null,
            "visibility": null,
            "width": null
          }
        },
        "c2cdd9cad0a84c32bd32757c9e2bf636": {
          "model_module": "@jupyter-widgets/controls",
          "model_name": "ProgressStyleModel",
          "model_module_version": "1.5.0",
          "state": {
            "_model_module": "@jupyter-widgets/controls",
            "_model_module_version": "1.5.0",
            "_model_name": "ProgressStyleModel",
            "_view_count": null,
            "_view_module": "@jupyter-widgets/base",
            "_view_module_version": "1.2.0",
            "_view_name": "StyleView",
            "bar_color": null,
            "description_width": ""
          }
        },
        "3a30ac5c2a5047b7bac61ae5f361d47c": {
          "model_module": "@jupyter-widgets/base",
          "model_name": "LayoutModel",
          "model_module_version": "1.2.0",
          "state": {
            "_model_module": "@jupyter-widgets/base",
            "_model_module_version": "1.2.0",
            "_model_name": "LayoutModel",
            "_view_count": null,
            "_view_module": "@jupyter-widgets/base",
            "_view_module_version": "1.2.0",
            "_view_name": "LayoutView",
            "align_content": null,
            "align_items": null,
            "align_self": null,
            "border": null,
            "bottom": null,
            "display": null,
            "flex": null,
            "flex_flow": null,
            "grid_area": null,
            "grid_auto_columns": null,
            "grid_auto_flow": null,
            "grid_auto_rows": null,
            "grid_column": null,
            "grid_gap": null,
            "grid_row": null,
            "grid_template_areas": null,
            "grid_template_columns": null,
            "grid_template_rows": null,
            "height": null,
            "justify_content": null,
            "justify_items": null,
            "left": null,
            "margin": null,
            "max_height": null,
            "max_width": null,
            "min_height": null,
            "min_width": null,
            "object_fit": null,
            "object_position": null,
            "order": null,
            "overflow": null,
            "overflow_x": null,
            "overflow_y": null,
            "padding": null,
            "right": null,
            "top": null,
            "visibility": null,
            "width": null
          }
        },
        "48afaa0f354444a686560af1d89d34ab": {
          "model_module": "@jupyter-widgets/controls",
          "model_name": "DescriptionStyleModel",
          "model_module_version": "1.5.0",
          "state": {
            "_model_module": "@jupyter-widgets/controls",
            "_model_module_version": "1.5.0",
            "_model_name": "DescriptionStyleModel",
            "_view_count": null,
            "_view_module": "@jupyter-widgets/base",
            "_view_module_version": "1.2.0",
            "_view_name": "StyleView",
            "description_width": ""
          }
        }
      }
    }
  },
  "nbformat": 4,
  "nbformat_minor": 5
}